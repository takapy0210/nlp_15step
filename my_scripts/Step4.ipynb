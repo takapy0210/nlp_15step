{
 "cells": [
  {
   "cell_type": "markdown",
   "metadata": {},
   "source": [
    "リスト7"
   ]
  },
  {
   "cell_type": "code",
   "execution_count": 1,
   "metadata": {},
   "outputs": [],
   "source": [
    "import re\n",
    "\n",
    "from sklearn.base import BaseEstimator, TransformerMixin\n",
    "from sklearn.feature_extraction import DictVectorizer\n",
    "from sklearn.feature_extraction.text import CountVectorizer\n",
    "from sklearn.pipeline import FeatureUnion, Pipeline\n",
    "\n",
    "rx_periods = re.compile(r'[.。．]+')  # <1>\n",
    "\n",
    "\n",
    "class TextStats(BaseEstimator, TransformerMixin):  # <2>\n",
    "    def fit(self, x, y=None):  # <3>\n",
    "        return self\n",
    "\n",
    "    def transform(self, texts):  # <4>\n",
    "        return [\n",
    "            {\n",
    "                'length': len(text),\n",
    "                'num_sentences': len([sent for sent in rx_periods.split(text)\n",
    "                                      if len(sent) > 0])\n",
    "            }\n",
    "            for text in texts\n",
    "        ]\n",
    "\n",
    "\n",
    "combined = FeatureUnion([  # <5>\n",
    "    ('stats', Pipeline([\n",
    "        ('stats', TextStats()),\n",
    "        ('vect', DictVectorizer()),  # <6>\n",
    "    ])),\n",
    "    ('char_bigram', CountVectorizer(analyzer='char', ngram_range=(2, 2))),\n",
    "])\n",
    "\n",
    "texts = [\n",
    "    'こんにちは。こんばんは。',\n",
    "    '焼肉が食べたい'\n",
    "]"
   ]
  },
  {
   "cell_type": "code",
   "execution_count": 2,
   "metadata": {},
   "outputs": [],
   "source": [
    "combined.fit(texts)\n",
    "feat = combined.transform(texts)"
   ]
  },
  {
   "cell_type": "code",
   "execution_count": 4,
   "metadata": {},
   "outputs": [
    {
     "data": {
      "text/plain": [
       "array([[12.,  2.,  1.,  0.,  2.,  0.,  1.,  1.,  2.,  1.,  0.,  1.,  1.,\n",
       "         1.,  0.,  0.,  0.],\n",
       "       [ 7.,  1.,  0.,  1.,  0.,  1.,  0.,  0.,  0.,  0.,  1.,  0.,  0.,\n",
       "         0.,  1.,  1.,  1.]])"
      ]
     },
     "execution_count": 4,
     "metadata": {},
     "output_type": "execute_result"
    }
   ],
   "source": [
    "feat.toarray()"
   ]
  },
  {
   "cell_type": "code",
   "execution_count": null,
   "metadata": {},
   "outputs": [],
   "source": []
  },
  {
   "cell_type": "code",
   "execution_count": null,
   "metadata": {},
   "outputs": [],
   "source": []
  },
  {
   "cell_type": "code",
   "execution_count": null,
   "metadata": {},
   "outputs": [],
   "source": []
  },
  {
   "cell_type": "code",
   "execution_count": null,
   "metadata": {},
   "outputs": [],
   "source": []
  },
  {
   "cell_type": "code",
   "execution_count": null,
   "metadata": {},
   "outputs": [],
   "source": []
  },
  {
   "cell_type": "code",
   "execution_count": null,
   "metadata": {},
   "outputs": [],
   "source": []
  },
  {
   "cell_type": "code",
   "execution_count": null,
   "metadata": {},
   "outputs": [],
   "source": []
  },
  {
   "cell_type": "code",
   "execution_count": null,
   "metadata": {},
   "outputs": [],
   "source": []
  },
  {
   "cell_type": "code",
   "execution_count": null,
   "metadata": {},
   "outputs": [],
   "source": []
  }
 ],
 "metadata": {
  "kernelspec": {
   "display_name": "Python 3",
   "language": "python",
   "name": "python3"
  },
  "language_info": {
   "codemirror_mode": {
    "name": "ipython",
    "version": 3
   },
   "file_extension": ".py",
   "mimetype": "text/x-python",
   "name": "python",
   "nbconvert_exporter": "python",
   "pygments_lexer": "ipython3",
   "version": "3.7.2"
  }
 },
 "nbformat": 4,
 "nbformat_minor": 2
}
