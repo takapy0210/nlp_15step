{
 "cells": [
  {
   "cell_type": "code",
   "execution_count": 1,
   "metadata": {},
   "outputs": [],
   "source": [
    "import gensim.downloader as api"
   ]
  },
  {
   "cell_type": "code",
   "execution_count": 10,
   "metadata": {},
   "outputs": [
    {
     "name": "stderr",
     "output_type": "stream",
     "text": [
      "W0311 19:45:33.424907 4690038208 smart_open_lib.py:385] this function is deprecated, use smart_open.open instead\n"
     ]
    }
   ],
   "source": [
    "model = api.load('glove-wiki-gigaword-50')  # <1>"
   ]
  },
  {
   "cell_type": "code",
   "execution_count": 21,
   "metadata": {},
   "outputs": [],
   "source": [
    "tokyo = model['tokyo']\n",
    "japan = model['japan']\n",
    "france = model['france']\n",
    "\n",
    "kyoto = model['kyoto']\n",
    "osaka = model['osaka']\n",
    "world = model['world']\n",
    "japan = model['japan']"
   ]
  },
  {
   "cell_type": "code",
   "execution_count": 22,
   "metadata": {},
   "outputs": [
    {
     "name": "stdout",
     "output_type": "stream",
     "text": [
      "tokyo - japan + france=  ('paris', 0.9174968004226685)\n"
     ]
    }
   ],
   "source": [
    "v = tokyo - japan + france  # <3>\n",
    "print('tokyo - japan + france= ',model.similar_by_vector(v, topn=1)[0])  # <4>"
   ]
  },
  {
   "cell_type": "code",
   "execution_count": 23,
   "metadata": {},
   "outputs": [
    {
     "name": "stdout",
     "output_type": "stream",
     "text": [
      "tokyo - kyoto + osaka=  ('tokyo', 0.8512148857116699)\n"
     ]
    }
   ],
   "source": [
    "v = tokyo - kyoto + osaka  # <3>\n",
    "print('tokyo - kyoto + osaka= ',model.similar_by_vector(v, topn=1)[0])  # <4>"
   ]
  },
  {
   "cell_type": "code",
   "execution_count": 13,
   "metadata": {},
   "outputs": [
    {
     "name": "stdout",
     "output_type": "stream",
     "text": [
      "[('tokyo', 1.0), ('osaka', 0.8219321966171265), ('seoul', 0.8158921003341675), ('japan', 0.8078721165657043), ('shanghai', 0.7954350113868713), ('japanese', 0.7557870745658875), ('yen', 0.731688916683197), ('singapore', 0.7233644127845764), ('beijing', 0.7195608019828796), ('taipei', 0.7153447270393372)]\n"
     ]
    }
   ],
   "source": [
    "tokyo = model['tokyo']  # <2>\n",
    "print(model.similar_by_vector(tokyo))"
   ]
  },
  {
   "cell_type": "code",
   "execution_count": null,
   "metadata": {},
   "outputs": [],
   "source": []
  },
  {
   "cell_type": "code",
   "execution_count": null,
   "metadata": {},
   "outputs": [],
   "source": []
  },
  {
   "cell_type": "code",
   "execution_count": null,
   "metadata": {},
   "outputs": [],
   "source": []
  }
 ],
 "metadata": {
  "kernelspec": {
   "display_name": "Python 3",
   "language": "python",
   "name": "python3"
  },
  "language_info": {
   "codemirror_mode": {
    "name": "ipython",
    "version": 3
   },
   "file_extension": ".py",
   "mimetype": "text/x-python",
   "name": "python",
   "nbconvert_exporter": "python",
   "pygments_lexer": "ipython3",
   "version": "3.7.2"
  }
 },
 "nbformat": 4,
 "nbformat_minor": 2
}
